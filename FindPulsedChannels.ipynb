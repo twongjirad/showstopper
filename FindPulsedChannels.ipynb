{
 "metadata": {
  "name": "",
  "signature": "sha256:5a7f0b28d1041a10f857b6c1e0cdd86bf32f0d17e0296205fe36b54a82fdc8c6"
 },
 "nbformat": 3,
 "nbformat_minor": 0,
 "worksheets": [
  {
   "cells": [
    {
     "cell_type": "code",
     "collapsed": false,
     "input": [
      "%matplotlib inline\n",
      "import os,sys\n",
      "import matplotlib\n",
      "import matplotlib.pyplot as plt\n",
      "import numpy as np\n",
      "import pandas as pd\n",
      "from root_numpy import root2array, root2rec, tree2rec, array2root"
     ],
     "language": "python",
     "metadata": {},
     "outputs": [],
     "prompt_number": 3
    },
    {
     "cell_type": "code",
     "collapsed": false,
     "input": [
      "files = os.listdir('data2')\n",
      "for f in files:\n",
      "    if '.root' not in f:\n",
      "        continue\n",
      "    df = pd.DataFrame( root2array( 'data2/'+f, 'wftree' ) )\n",
      "    print '-------------------------------'\n",
      "    print f\n",
      "    print df[ df['max_amp']>700.0 ][['crate','slot','femch','max_amp']]\n"
     ],
     "language": "python",
     "metadata": {},
     "outputs": [
      {
       "output_type": "stream",
       "stream": "stdout",
       "text": [
        "-------------------------------\n",
        "pulser_run083_subrun000_010.root\n",
        "     crate  slot  femch      max_amp\n",
        "832      2     6      0  1086.422974\n",
        "-------------------------------"
       ]
      },
      {
       "output_type": "stream",
       "stream": "stdout",
       "text": [
        "\n",
        "pulser_run084_subrun000_016.root\n",
        "     crate  slot  femch      max_amp\n",
        "833      2     6      1  1112.257812\n",
        "-------------------------------"
       ]
      },
      {
       "output_type": "stream",
       "stream": "stdout",
       "text": [
        "\n",
        "pulser_run095_subrun027_036.root\n",
        "Empty DataFrame\n",
        "Columns: [crate, slot, femch, max_amp]\n",
        "Index: []\n",
        "-------------------------------"
       ]
      },
      {
       "output_type": "stream",
       "stream": "stdout",
       "text": [
        "\n",
        "pulser_run095_subrun044_055.root\n",
        "      crate  slot  femch     max_amp\n",
        "4864      6     9      0  880.368652\n",
        "-------------------------------"
       ]
      },
      {
       "output_type": "stream",
       "stream": "stdout",
       "text": [
        "\n",
        "pulser_run095_subrun067_076.root\n",
        "      crate  slot  femch      max_amp\n",
        "5888      7    10      0  1113.892822\n",
        "-------------------------------"
       ]
      },
      {
       "output_type": "stream",
       "stream": "stdout",
       "text": [
        "\n",
        "pulser_run095_subrun085_094.root\n",
        "      crate  slot  femch     max_amp\n",
        "5504      7     4      0  825.126587\n",
        "-------------------------------"
       ]
      },
      {
       "output_type": "stream",
       "stream": "stdout",
       "text": [
        "\n",
        "pulser_run095_subrun100_109.root\n",
        "      crate  slot  femch     max_amp\n",
        "5072      6    12     16  810.368408\n",
        "-------------------------------"
       ]
      },
      {
       "output_type": "stream",
       "stream": "stdout",
       "text": [
        "\n",
        "pulser_run095_subrun120_132.root\n",
        "      crate  slot  femch     max_amp\n",
        "5982      7    11     30  895.985596\n",
        "-------------------------------"
       ]
      },
      {
       "output_type": "stream",
       "stream": "stdout",
       "text": [
        "\n",
        "pulser_run095_subrun157_166.root\n",
        "      crate  slot  femch      max_amp\n",
        "7344      8    17     48  1058.236572\n",
        "-------------------------------"
       ]
      },
      {
       "output_type": "stream",
       "stream": "stdout",
       "text": [
        "\n",
        "pulser_run095_subrun174_183.root\n",
        "      crate  slot  femch      max_amp\n",
        "7343      8    17     47  1085.407471\n",
        "-------------------------------"
       ]
      },
      {
       "output_type": "stream",
       "stream": "stdout",
       "text": [
        "\n",
        "pulser_run095_subrun198_207.root\n",
        "      crate  slot  femch    max_amp\n",
        "8144      9    16     16  904.47522\n",
        "-------------------------------"
       ]
      },
      {
       "output_type": "stream",
       "stream": "stdout",
       "text": [
        "\n",
        "pulser_run114_subrun000_020.root\n",
        "      crate  slot  femch      max_amp\n",
        "1601      2    18      1  1103.806152\n",
        "8145      9    16     17  1139.399414\n",
        "-------------------------------"
       ]
      },
      {
       "output_type": "stream",
       "stream": "stdout",
       "text": [
        "\n",
        "pulser_run114_subrun110_130.root\n",
        "      crate  slot  femch      max_amp\n",
        "1601      2    18      1  1104.595215\n",
        "8149      9    16     21  1144.265869\n",
        "-------------------------------"
       ]
      },
      {
       "output_type": "stream",
       "stream": "stdout",
       "text": [
        "\n",
        "pulser_run114_subrun275_295.root\n",
        "      crate  slot  femch      max_amp\n",
        "1601      2    18      1  1104.015137\n",
        "-------------------------------"
       ]
      },
      {
       "output_type": "stream",
       "stream": "stdout",
       "text": [
        "\n",
        "pulser_run114_subrun400_420.root\n",
        "      crate  slot  femch      max_amp\n",
        "1601      2    18      1  1109.123047\n",
        "5918      7    10     30   831.607544\n",
        "-------------------------------"
       ]
      },
      {
       "output_type": "stream",
       "stream": "stdout",
       "text": [
        "\n",
        "pulser_run114_subrun640_660.root\n",
        "      crate  slot  femch      max_amp\n",
        "1601      2    18      1  1104.057861\n",
        "5888      7    10      0  1116.359253\n",
        "-------------------------------"
       ]
      },
      {
       "output_type": "stream",
       "stream": "stdout",
       "text": [
        "\n",
        "pulser_run114_subrun755_775.root\n",
        "      crate  slot  femch      max_amp\n",
        "1601      2    18      1  1104.115967\n",
        "5916      7    10     28  1145.126953\n",
        "-------------------------------"
       ]
      },
      {
       "output_type": "stream",
       "stream": "stdout",
       "text": [
        "\n",
        "pulser_run114_subrun865_885.root\n",
        "      crate  slot  femch      max_amp\n",
        "1601      2    18      1  1105.018066\n",
        "5568      7     5      0   824.712402\n",
        "-------------------------------"
       ]
      },
      {
       "output_type": "stream",
       "stream": "stdout",
       "text": [
        "\n",
        "pulser_run115_subrun110_130.root\n",
        "      crate  slot  femch      max_amp\n",
        "1601      2    18      1  1104.741211\n",
        "5572      7     5      4  1122.798096\n",
        "-------------------------------"
       ]
      },
      {
       "output_type": "stream",
       "stream": "stdout",
       "text": [
        "\n",
        "pulser_run115_subrun220_240.root\n",
        "      crate  slot  femch      max_amp\n",
        "1601      2    18      1  1104.675049\n",
        "5571      7     5      3  1119.257446\n",
        "-------------------------------"
       ]
      },
      {
       "output_type": "stream",
       "stream": "stdout",
       "text": [
        "\n",
        "pulser_run115_subrun365_385.root\n",
        "      crate  slot  femch      max_amp\n",
        "1601      2    18      1  1104.350586\n",
        "5006      6    11     14  1121.126953\n",
        "-------------------------------"
       ]
      },
      {
       "output_type": "stream",
       "stream": "stdout",
       "text": [
        "\n",
        "pulser_run115_subrun475_495.root\n",
        "      crate  slot  femch      max_amp\n",
        "1601      2    18      1  1104.902100\n",
        "5007      6    11     15  1124.075928\n",
        "-------------------------------"
       ]
      },
      {
       "output_type": "stream",
       "stream": "stdout",
       "text": [
        "\n",
        "pulser_run115_subrun620_640.root\n",
        "      crate  slot  femch      max_amp\n",
        "1601      2    18      1  1104.981201\n",
        "5008      6    11     16   835.302002\n",
        "-------------------------------"
       ]
      },
      {
       "output_type": "stream",
       "stream": "stdout",
       "text": [
        "\n",
        "pulser_run115_subrun850_870.root\n",
        "      crate  slot  femch      max_amp\n",
        "1601      2    18      1  1104.745850\n",
        "5062      6    12      6   850.748291\n",
        "-------------------------------"
       ]
      },
      {
       "output_type": "stream",
       "stream": "stdout",
       "text": [
        "\n",
        "pulser_run115_subrun980_1000.root\n",
        "      crate  slot  femch      max_amp\n",
        "1601      2    18      1  1104.292236\n",
        "5063      6    12      7  1124.748779\n",
        "-------------------------------"
       ]
      },
      {
       "output_type": "stream",
       "stream": "stdout",
       "text": [
        "\n",
        "pulser_run117_subrun000_020.root\n",
        "      crate  slot  femch      max_amp\n",
        "1601      2    18      1  1105.190186\n",
        "5012      6    11     20  1126.179199\n",
        "-------------------------------"
       ]
      },
      {
       "output_type": "stream",
       "stream": "stdout",
       "text": [
        "\n",
        "pulser_run117_subrun115_135.root\n",
        "      crate  slot  femch      max_amp\n",
        "1601      2    18      1  1105.863770\n",
        "5072      6    12     16   826.019531\n",
        "-------------------------------"
       ]
      },
      {
       "output_type": "stream",
       "stream": "stdout",
       "text": [
        "\n",
        "pulser_run119_subrun000_020.root\n",
        "      crate  slot  femch      max_amp\n",
        "1601      2    18      1  1105.318359\n",
        "4950      6    10     22   855.795166\n",
        "-------------------------------"
       ]
      },
      {
       "output_type": "stream",
       "stream": "stdout",
       "text": [
        "\n",
        "pulser_run119_subrun110_130.root\n",
        "      crate  slot  femch      max_amp\n",
        "1601      2    18      1  1105.318848\n",
        "4944      6    10     16  1104.493896\n",
        "-------------------------------"
       ]
      },
      {
       "output_type": "stream",
       "stream": "stdout",
       "text": [
        "\n",
        "pulser_run119_subrun230_250.root\n",
        "      crate  slot  femch      max_amp\n",
        "1601      2    18      1  1102.822754\n",
        "5076      6    12     20   827.951172\n",
        "-------------------------------"
       ]
      },
      {
       "output_type": "stream",
       "stream": "stdout",
       "text": [
        "\n",
        "pulser_run119_subrun350_370.root\n",
        "      crate  slot  femch      max_amp\n",
        "1601      2    18      1  1102.919678\n",
        "4888      6     9     24   887.093506\n",
        "-------------------------------"
       ]
      },
      {
       "output_type": "stream",
       "stream": "stdout",
       "text": [
        "\n",
        "pulser_run130_subrun000_008.root\n",
        "      crate  slot  femch      max_amp\n",
        "1601      2    18      1  1105.014893\n",
        "-------------------------------"
       ]
      },
      {
       "output_type": "stream",
       "stream": "stdout",
       "text": [
        "\n",
        "pulser_run131_subrun000_011.root\n",
        "      crate  slot  femch      max_amp\n",
        "1601      2    18      1  1103.842285\n"
       ]
      }
     ],
     "prompt_number": 18
    },
    {
     "cell_type": "code",
     "collapsed": false,
     "input": [],
     "language": "python",
     "metadata": {},
     "outputs": []
    }
   ],
   "metadata": {}
  }
 ]
}