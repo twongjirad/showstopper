{
 "metadata": {
  "name": "",
  "signature": "sha256:3c93e495812883d0570677b5f210a5b7d6eb1e429e190e46930f234ead724cb0"
 },
 "nbformat": 3,
 "nbformat_minor": 0,
 "worksheets": [
  {
   "cells": [
    {
     "cell_type": "code",
     "collapsed": false,
     "input": [
      "%matplotlib inline\n",
      "import matplotlib\n",
      "import matplotlib.pyplot as plt\n",
      "import numpy as np\n",
      "import pandas as pd\n",
      "from root_numpy import root2array, root2rec, tree2rec, array2root"
     ],
     "language": "python",
     "metadata": {},
     "outputs": [],
     "prompt_number": 1
    },
    {
     "cell_type": "code",
     "collapsed": false,
     "input": [
      "wf_arr = root2array( 'data/pulser_run083.root', 'wftree' )\n",
      "wfdf = pd.DataFrame( wf_arr )\n",
      "pl_arr = root2array( 'data/pulser_run083.root', 'ptree' )\n",
      "pldf = pd.DataFrame( pl_arr )"
     ],
     "language": "python",
     "metadata": {},
     "outputs": [],
     "prompt_number": 2
    },
    {
     "cell_type": "code",
     "collapsed": false,
     "input": [
      "print wfdf.columns\n",
      "print pldf.columns\n",
      "tdc = 500.0"
     ],
     "language": "python",
     "metadata": {},
     "outputs": [
      {
       "output_type": "stream",
       "stream": "stdout",
       "text": [
        "Index([u'crate', u'slot', u'femch', u'max_amp', u'npulse', u'ped_mean', u'ped_rms', u'wf'], dtype='object')\n",
        "Index([u'crate', u'slot', u'femch', u'ped_mean', u'ped_rms', u'amp', u'charge', u'tstart', u'width'], dtype='object')\n"
       ]
      }
     ],
     "prompt_number": 3
    },
    {
     "cell_type": "code",
     "collapsed": false,
     "input": [
      "#ex = df[ df['max_amp']>100 ]\n",
      "#wfdf.query('crate==2 & slot==6 & femch==0')\n",
      "#sig_arr = wfdf.query('crate==2 & slot==6 & femch==0')['wf']\n",
      "# 7,4,0: \n",
      "sig_arr = wfdf.query('crate==6 & slot==12 & femch==10')['wf']\n",
      "sig_arr.values[0]"
     ],
     "language": "python",
     "metadata": {},
     "outputs": [
      {
       "metadata": {},
       "output_type": "pyout",
       "prompt_number": 4,
       "text": [
        "array([ 2057.31811523,  2049.74536133,  2047.59094238, ...,  2038.71813965,\n",
        "        2036.39086914,  2045.12731934], dtype=float32)"
       ]
      }
     ],
     "prompt_number": 4
    },
    {
     "cell_type": "code",
     "collapsed": false,
     "input": [
      "wired = 864 # from Jonanathan, Plane U"
     ],
     "language": "python",
     "metadata": {},
     "outputs": [],
     "prompt_number": 6
    },
    {
     "cell_type": "code",
     "collapsed": false,
     "input": [
      "y = sig_arr.values[0]\n",
      "y[:] -= np.mean(y)\n",
      "y"
     ],
     "language": "python",
     "metadata": {},
     "outputs": [
      {
       "metadata": {},
       "output_type": "pyout",
       "prompt_number": 7,
       "text": [
        "array([  9.45007324,   1.87731934,  -0.27709961, ...,  -9.14990234,\n",
        "       -11.47717285,  -2.74072266], dtype=float32)"
       ]
      }
     ],
     "prompt_number": 7
    },
    {
     "cell_type": "code",
     "collapsed": false,
     "input": [
      "plt.figure()\n",
      "plt.plot(np.arange(0,tdc*len(y[:100]), tdc), y[:100], 'r')\n",
      "plt.xlabel('x')\n",
      "plt.ylabel('y')\n",
      "plt.title('waveform')\n",
      "plt.show()"
     ],
     "language": "python",
     "metadata": {},
     "outputs": [
      {
       "metadata": {},
       "output_type": "display_data",
       "png": "[encoded data removed]",
       "text": [
        "<matplotlib.figure.Figure at 0x110847dd0>"
       ]
      }
     ],
     "prompt_number": 8
    },
    {
     "cell_type": "code",
     "collapsed": false,
     "input": [
      "xff = np.fft.fft( y[:100] )\n",
      "xffc = np.conjugate( xff )\n",
      "xx = np.sqrt(np.real(xff*xffc))\n",
      "nhalf = len(xx)/2\n",
      "nhalf"
     ],
     "language": "python",
     "metadata": {},
     "outputs": [
      {
       "metadata": {},
       "output_type": "pyout",
       "prompt_number": 74,
       "text": [
        "50"
       ]
      }
     ],
     "prompt_number": 74
    },
    {
     "cell_type": "code",
     "collapsed": false,
     "input": [
      "plt.figure()\n",
      "plt.plot(np.arange(0,nhalf), xx[:nhalf], 'r')\n",
      "plt.xlabel('x')\n",
      "plt.ylabel('y')\n",
      "plt.title('title')\n",
      "plt.show()"
     ],
     "language": "python",
     "metadata": {},
     "outputs": [],
     "prompt_number": 75
    },
    {
     "cell_type": "code",
     "collapsed": false,
     "input": [],
     "language": "python",
     "metadata": {},
     "outputs": []
    }
   ],
   "metadata": {}
  }
 ]
}