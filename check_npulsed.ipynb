{
 "metadata": {
  "name": "",
  "signature": "sha256:db9e619d70432d3cec635efe524129e9fe35dc125abff32b3f17b0e6f560bc29"
 },
 "nbformat": 3,
 "nbformat_minor": 0,
 "worksheets": [
  {
   "cells": [
    {
     "cell_type": "code",
     "collapsed": false,
     "input": [
      "import numpy as np\n",
      "import pandas as pd\n",
      "import os,sys"
     ],
     "language": "python",
     "metadata": {},
     "outputs": [],
     "prompt_number": 3
    },
    {
     "cell_type": "code",
     "collapsed": false,
     "input": [
      "def check_npulsed(run):\n",
      "    datafile = 'output/run%03d.npz'%(run)\n",
      "    if not os.path.exists(datafile):\n",
      "        print datafile,\"not found\"\n",
      "        return\n",
      "    npz = np.load(datafile)\n",
      "    arr = npz['outdf']\n",
      "    df = pd.DataFrame(arr)\n",
      "    npulsed = len(df[df['pulsed']==1])\n",
      "    nbad = len(df[df['badch']==1])\n",
      "    good_pulsed = len(df.query( '(pulsed==1) & (badch==0)' ) )\n",
      "    print \"RUN \",run,\": pulsed=\",npulsed,\" nbad=\",nbad,\" good_pulsed=\",good_pulsed\n",
      "    "
     ],
     "language": "python",
     "metadata": {},
     "outputs": [],
     "prompt_number": 6
    },
    {
     "cell_type": "code",
     "collapsed": false,
     "input": [
      "for run in xrange(28,60):\n",
      "    check_npulsed(run)"
     ],
     "language": "python",
     "metadata": {},
     "outputs": [
      {
       "output_type": "stream",
       "stream": "stdout",
       "text": [
        "RUN  28 : pulsed= 252  nbad= 65  good_pulsed= 246\n",
        "RUN  29 : pulsed= 251  nbad= 67  good_pulsed= 251\n",
        "RUN  30 : pulsed= 251  nbad= 66  good_pulsed= 247\n",
        "RUN  31 : pulsed= 840  nbad= 71  good_pulsed= 818\n",
        "RUN  32 : pulsed= 252  nbad= 65  good_pulsed= 247\n",
        "RUN  33 : pulsed= 252  nbad= 63  good_pulsed= 252\n",
        "RUN "
       ]
      },
      {
       "output_type": "stream",
       "stream": "stdout",
       "text": [
        " 34 : pulsed= 240  nbad= 65  good_pulsed= 237\n",
        "RUN  35 : pulsed= 252  nbad= 67  good_pulsed= 252\n",
        "RUN  36 : pulsed= 252  nbad= 65  good_pulsed= 249\n",
        "RUN  37 : pulsed= 243  nbad= 67  good_pulsed= 243\n",
        "RUN  38 : pulsed= 252  nbad= 66  good_pulsed= 250\n",
        "output/run039.npz not found\n",
        "RUN  40 : pulsed= 252  nbad= 68  good_pulsed= 252\n",
        "RUN "
       ]
      },
      {
       "output_type": "stream",
       "stream": "stdout",
       "text": [
        " 41 : pulsed= 252  nbad= 62  good_pulsed= 249\n",
        "RUN  42 : pulsed= 252  nbad= 64  good_pulsed= 252\n",
        "RUN  43 : pulsed= 252  nbad= 65  good_pulsed= 248\n",
        "RUN  44 : pulsed= 252  nbad= 68  good_pulsed= 251\n",
        "RUN  45 : pulsed= 252  nbad= 71  good_pulsed= 246\n",
        "RUN  46 : pulsed= 251  nbad= 70  good_pulsed= 251\n",
        "RUN "
       ]
      },
      {
       "output_type": "stream",
       "stream": "stdout",
       "text": [
        " 47 : pulsed= 251  nbad= 50  good_pulsed= 247\n",
        "RUN  48 : pulsed= 252  nbad= 51  good_pulsed= 252\n",
        "RUN  49 : pulsed= 252  nbad= 69  good_pulsed= 247\n",
        "RUN  50 : pulsed= 252  nbad= 70  good_pulsed= 252\n",
        "RUN  51 : pulsed= 252  nbad= 70  good_pulsed= 248\n",
        "RUN  52 : pulsed= 252  nbad= 71  good_pulsed= 252\n",
        "RUN "
       ]
      },
      {
       "output_type": "stream",
       "stream": "stdout",
       "text": [
        " 53 : pulsed= 252  nbad= 70  good_pulsed= 249\n",
        "RUN  54 : pulsed= 252  nbad= 70  good_pulsed= 252\n",
        "output/run055.npz not found\n",
        "RUN  56 : pulsed= 0  nbad= 43  good_pulsed= 0\n",
        "RUN  57 : pulsed= 0  nbad= 66  good_pulsed= 0\n",
        "output/run058.npz not found\n",
        "output/run059.npz not found\n"
       ]
      }
     ],
     "prompt_number": 7
    },
    {
     "cell_type": "code",
     "collapsed": false,
     "input": [],
     "language": "python",
     "metadata": {},
     "outputs": []
    }
   ],
   "metadata": {}
  }
 ]
}