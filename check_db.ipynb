{
 "metadata": {
  "name": "",
  "signature": "sha256:71b45c24560b8a49f5d85ae70a395cb7e2d19104457994bb9da6a7903cd003bb"
 },
 "nbformat": 3,
 "nbformat_minor": 0,
 "worksheets": [
  {
   "cells": [
    {
     "cell_type": "code",
     "collapsed": false,
     "input": [
      "import channelmap\n",
      "import numpy as np"
     ],
     "language": "python",
     "metadata": {},
     "outputs": [],
     "prompt_number": 10
    },
    {
     "cell_type": "code",
     "collapsed": false,
     "input": [
      "chmap = channelmap.getChannelMap('csf2planewire.txt')"
     ],
     "language": "python",
     "metadata": {},
     "outputs": [
      {
       "output_type": "stream",
       "stream": "stdout",
       "text": [
        "Build Channel Map\n"
       ]
      }
     ],
     "prompt_number": 2
    },
    {
     "cell_type": "code",
     "collapsed": false,
     "input": [
      "chmapv2 = channelmap.getChannelMap('csf2planewire_v2.txt',reload=True)"
     ],
     "language": "python",
     "metadata": {},
     "outputs": [
      {
       "output_type": "stream",
       "stream": "stdout",
       "text": [
        "Build Channel Map\n"
       ]
      }
     ],
     "prompt_number": 3
    },
    {
     "cell_type": "code",
     "collapsed": false,
     "input": [
      "def checkrow( crate, slot, femch, plane, wireid ):\n",
      "    row = chmap.query( '(crate==%d) & (slot==%d) & (femch==%d)'%(crate,slot,femch))\n",
      "    if len(row)<=0:\n",
      "        return 0\n",
      "    if row['plane'].values[0]==plane and row['wireid'].values[0]==wireid:\n",
      "        return 1\n",
      "    else:\n",
      "        return 0\n",
      "    "
     ],
     "language": "python",
     "metadata": {},
     "outputs": [],
     "prompt_number": 26
    },
    {
     "cell_type": "code",
     "collapsed": false,
     "input": [
      "chmapv2['check'] = np.vectorize(checkrow)( chmapv2['crate'],chmapv2['slot'],chmapv2['femch'],chmapv2['plane'],chmapv2['wireid'])"
     ],
     "language": "python",
     "metadata": {},
     "outputs": [],
     "prompt_number": 30
    },
    {
     "cell_type": "code",
     "collapsed": false,
     "input": [
      "chmapv2[chmapv2['check']==0]"
     ],
     "language": "python",
     "metadata": {},
     "outputs": [
      {
       "html": [
        "<div style=\"max-height:1000px;max-width:1500px;overflow:auto;\">\n",
        "<table border=\"1\" class=\"dataframe\">\n",
        "  <thead>\n",
        "    <tr style=\"text-align: right;\">\n",
        "      <th></th>\n",
        "      <th>crate</th>\n",
        "      <th>slot</th>\n",
        "      <th>femch</th>\n",
        "      <th>plane</th>\n",
        "      <th>wireid</th>\n",
        "      <th>check</th>\n",
        "    </tr>\n",
        "  </thead>\n",
        "  <tbody>\n",
        "  </tbody>\n",
        "</table>\n",
        "</div>"
       ],
       "metadata": {},
       "output_type": "pyout",
       "prompt_number": 33,
       "text": [
        "Empty DataFrame\n",
        "Columns: [crate, slot, femch, plane, wireid, check]\n",
        "Index: []"
       ]
      }
     ],
     "prompt_number": 33
    },
    {
     "cell_type": "code",
     "collapsed": false,
     "input": [],
     "language": "python",
     "metadata": {},
     "outputs": []
    }
   ],
   "metadata": {}
  }
 ]
}